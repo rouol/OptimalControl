{
 "cells": [
  {
   "cell_type": "code",
   "execution_count": 2,
   "metadata": {},
   "outputs": [],
   "source": [
    "import numpy as np\n",
    "import sympy\n",
    "from tools import toCopyString, fromCopyString"
   ]
  },
  {
   "cell_type": "code",
   "execution_count": 3,
   "metadata": {},
   "outputs": [
    {
     "data": {
      "text/plain": [
       "(Matrix([\n",
       " [ 4, -4,  5],\n",
       " [ 5, -1,  0],\n",
       " [-4, -2, -1]]),\n",
       " Matrix([\n",
       " [ 2],\n",
       " [10],\n",
       " [ 3]]),\n",
       " Matrix([\n",
       " [-1],\n",
       " [-1],\n",
       " [-5]]))"
      ]
     },
     "execution_count": 3,
     "metadata": {},
     "output_type": "execute_result"
    }
   ],
   "source": [
    "A = sympy.Matrix(fromCopyString('matrix([4,-4,5],[5,-1,0],[-4,-2,-1])'))\n",
    "B = sympy.Matrix(fromCopyString('matrix([2],[10],[3])'))\n",
    "L = sympy.Matrix(fromCopyString('matrix([-1],[-1],[-5])'))\n",
    "A, B, L"
   ]
  },
  {
   "cell_type": "markdown",
   "metadata": {},
   "source": [
    "0: Матрица управляемости"
   ]
  },
  {
   "cell_type": "code",
   "execution_count": 4,
   "metadata": {},
   "outputs": [
    {
     "data": {
      "text/plain": [
       "'matrix([2,-17,-223],[10,0,-85],[3,-31,99])'"
      ]
     },
     "execution_count": 4,
     "metadata": {},
     "output_type": "execute_result"
    }
   ],
   "source": [
    "Scontrol = sympy.eye(3)\n",
    "Scontrol[:, 0] = B \n",
    "Scontrol[:, 1] = A*B\n",
    "Scontrol[:, 2] = A**2*B\n",
    "toCopyString(Scontrol)"
   ]
  },
  {
   "cell_type": "markdown",
   "metadata": {},
   "source": [
    "1: Управляемость системы"
   ]
  },
  {
   "cell_type": "code",
   "execution_count": 4,
   "metadata": {},
   "outputs": [
    {
     "data": {
      "text/plain": [
       "(85025, 'да')"
      ]
     },
     "execution_count": 4,
     "metadata": {},
     "output_type": "execute_result"
    }
   ],
   "source": [
    "detScontrol = Scontrol.det()\n",
    "detScontrol, 'да' if detScontrol != 0 else 'нет'"
   ]
  },
  {
   "cell_type": "markdown",
   "metadata": {},
   "source": [
    "2: Коэффициенты характеристического полинома разомкнутой системы (в порядке возрастания степеней от свободного члена)"
   ]
  },
  {
   "cell_type": "code",
   "execution_count": 153,
   "metadata": {},
   "outputs": [
    {
     "data": {
      "text/plain": [
       "'matrix([86],[33],[-2])'"
      ]
     },
     "execution_count": 153,
     "metadata": {},
     "output_type": "execute_result"
    }
   ],
   "source": [
    "l = sympy.symbols('lambda')\n",
    "I = sympy.eye(3)\n",
    "detChPolyOpen = (l*I - A).det()\n",
    "c0 = detChPolyOpen.coeff(l, 0)\n",
    "c1 = detChPolyOpen.coeff(l, 1)\n",
    "c2 = detChPolyOpen.coeff(l, 2)\n",
    "ChPolyOpen = sympy.Matrix([\n",
    "    c0,\n",
    "    c1,\n",
    "    c2\n",
    "    ])\n",
    "toCopyString(ChPolyOpen)"
   ]
  },
  {
   "cell_type": "markdown",
   "metadata": {},
   "source": [
    "3: Коэффициенты характеристического полинома замкнутой системы (в порядке возрастания степеней от свободного члена)"
   ]
  },
  {
   "cell_type": "code",
   "execution_count": 154,
   "metadata": {},
   "outputs": [
    {
     "data": {
      "text/plain": [
       "'matrix([5],[11],[7])'"
      ]
     },
     "execution_count": 154,
     "metadata": {},
     "output_type": "execute_result"
    }
   ],
   "source": [
    "ChPolyClosed = sympy.Matrix([\n",
    "    [-(L[0]*L[1]*L[2])],\n",
    "    [L[0]*L[1] + L[0]*L[2] + L[1]*L[2]],\n",
    "    [-(L[0] + L[1] + L[2])]\n",
    "    ])\n",
    "toCopyString(ChPolyClosed)"
   ]
  },
  {
   "cell_type": "markdown",
   "metadata": {},
   "source": [
    "4: Матрица D^-1"
   ]
  },
  {
   "cell_type": "code",
   "execution_count": 155,
   "metadata": {},
   "outputs": [
    {
     "data": {
      "text/plain": [
       "'matrix([-0.00364598647456630,0.000129373713613643,0.00199941193766539],[-0.0219347250808586,0.0104557483093208,-0.0202293443104969],[0.0454572184651573,0.117741840635107,-0.0894442810937959])'"
      ]
     },
     "execution_count": 155,
     "metadata": {},
     "output_type": "execute_result"
    }
   ],
   "source": [
    "d1 = A**2*B+c2*A*B+c1*B\n",
    "d2 = A*B+c2*B\n",
    "d3 = B\n",
    "D = sympy.eye(3)\n",
    "D[:, 0] = d1\n",
    "D[:, 1] = d2\n",
    "D[:, 2] = d3\n",
    "Dinv = D.inv().evalf()\n",
    "# evaluate Dinv\n",
    "toCopyString(Dinv)"
   ]
  },
  {
   "cell_type": "markdown",
   "metadata": {},
   "source": [
    "5: Вектор G^T"
   ]
  },
  {
   "cell_type": "code",
   "execution_count": 156,
   "metadata": {},
   "outputs": [
    {
     "data": {
      "text/plain": [
       "'matrix([81,22,-9])'"
      ]
     },
     "execution_count": 156,
     "metadata": {},
     "output_type": "execute_result"
    }
   ],
   "source": [
    "GpT = (ChPolyOpen - ChPolyClosed).T\n",
    "toCopyString(GpT)"
   ]
  },
  {
   "cell_type": "markdown",
   "metadata": {},
   "source": [
    "6: Вектор P"
   ]
  },
  {
   "cell_type": "code",
   "execution_count": 157,
   "metadata": {},
   "outputs": [
    {
     "data": {
      "text/plain": [
       "'matrix([-1.18700382240517,-0.819170832108204,0.521905321964128])'"
      ]
     },
     "execution_count": 157,
     "metadata": {},
     "output_type": "execute_result"
    }
   ],
   "source": [
    "P = GpT*Dinv\n",
    "toCopyString(P)"
   ]
  }
 ],
 "metadata": {
  "kernelspec": {
   "display_name": "Python 3.10.4 64-bit",
   "language": "python",
   "name": "python3"
  },
  "language_info": {
   "codemirror_mode": {
    "name": "ipython",
    "version": 3
   },
   "file_extension": ".py",
   "mimetype": "text/x-python",
   "name": "python",
   "nbconvert_exporter": "python",
   "pygments_lexer": "ipython3",
   "version": "3.10.4"
  },
  "orig_nbformat": 4,
  "vscode": {
   "interpreter": {
    "hash": "916dbcbb3f70747c44a77c7bcd40155683ae19c65e1c03b4aa3499c5328201f1"
   }
  }
 },
 "nbformat": 4,
 "nbformat_minor": 2
}
