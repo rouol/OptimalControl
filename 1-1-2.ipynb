{
 "cells": [
  {
   "cell_type": "code",
   "execution_count": 1,
   "metadata": {},
   "outputs": [],
   "source": [
    "from json import loads\n",
    "import numpy as np\n",
    "import sympy\n",
    "from tools import toCopyString, fromCopyString"
   ]
  },
  {
   "cell_type": "code",
   "execution_count": 4,
   "metadata": {},
   "outputs": [
    {
     "data": {
      "text/plain": [
       "[[1, 2, 3], [0, 1, 2], [0, 0, 4]]"
      ]
     },
     "execution_count": 4,
     "metadata": {},
     "output_type": "execute_result"
    }
   ],
   "source": [
    "# matrix([1,2,3],[0,1,2],[0,0,4])\n",
    "# matrix([-2,1],[2,-1],[0,1])\n",
    "\n",
    "# loads('matrix([1,2,3],[0,1,2],[0,0,4])'.replace('matrix(', '[').replace(')', ']'))\n",
    "fromCopyString('matrix([1,2,3],[0,1,2],[0,0,4])')"
   ]
  },
  {
   "cell_type": "code",
   "execution_count": 7,
   "metadata": {},
   "outputs": [
    {
     "data": {
      "text/plain": [
       "(Matrix([\n",
       " [1, 2, 3],\n",
       " [0, 1, 2],\n",
       " [0, 0, 4]]),\n",
       " Matrix([\n",
       " [-2,  1],\n",
       " [ 2, -1],\n",
       " [ 0,  1]]),\n",
       " Matrix([\n",
       " [-1],\n",
       " [-2],\n",
       " [-1]]),\n",
       " Matrix([\n",
       " [1],\n",
       " [2]]))"
      ]
     },
     "execution_count": 7,
     "metadata": {},
     "output_type": "execute_result"
    }
   ],
   "source": [
    "A = sympy.Matrix(fromCopyString('matrix([1,2,3],[0,1,2],[0,0,4])'))\n",
    "B = sympy.Matrix(fromCopyString('matrix([-2,1],[2,-1],[0,1])'))\n",
    "L = sympy.Matrix(fromCopyString('matrix([-1],[-2],[-1])'))\n",
    "r = sympy.Matrix(fromCopyString('matrix([1],[2])'))\n",
    "A, B, L, r"
   ]
  },
  {
   "cell_type": "markdown",
   "metadata": {},
   "source": [
    "0: Матрица управляемости"
   ]
  },
  {
   "cell_type": "code",
   "execution_count": 21,
   "metadata": {},
   "outputs": [
    {
     "data": {
      "text/plain": [
       "'matrix([-2,1,2,2,6,16],[2,-1,2,1,2,9],[0,1,0,4,0,16])'"
      ]
     },
     "execution_count": 21,
     "metadata": {},
     "output_type": "execute_result"
    }
   ],
   "source": [
    "Scontrol = sympy.zeros(3,6)\n",
    "Scontrol[:, 0:2] = B \n",
    "Scontrol[:, 2:4] = A*B\n",
    "Scontrol[:, 4:] = A**2*B\n",
    "toCopyString(Scontrol)"
   ]
  },
  {
   "cell_type": "markdown",
   "metadata": {},
   "source": [
    "1: Управляемость системы"
   ]
  },
  {
   "cell_type": "code",
   "execution_count": 22,
   "metadata": {},
   "outputs": [
    {
     "data": {
      "text/plain": [
       "(8, 'да')"
      ]
     },
     "execution_count": 22,
     "metadata": {},
     "output_type": "execute_result"
    }
   ],
   "source": [
    "# slice out to (3,3)\n",
    "ScontrolSquared = Scontrol[:, 0:3]\n",
    "detScontrol = ScontrolSquared.det()\n",
    "detScontrol, 'да' if detScontrol != 0 else 'нет'"
   ]
  },
  {
   "cell_type": "markdown",
   "metadata": {},
   "source": [
    "2: Коэффициенты характеристического полинома разомкнутой системы (в порядке возрастания степеней от свободного члена)"
   ]
  },
  {
   "cell_type": "code",
   "execution_count": 23,
   "metadata": {},
   "outputs": [
    {
     "data": {
      "text/plain": [
       "'matrix([-4],[9],[-6])'"
      ]
     },
     "execution_count": 23,
     "metadata": {},
     "output_type": "execute_result"
    }
   ],
   "source": [
    "l = sympy.symbols('lambda')\n",
    "I = sympy.eye(3)\n",
    "detChPolyOpen = (l*I - A).det()\n",
    "c0 = detChPolyOpen.coeff(l, 0)\n",
    "c1 = detChPolyOpen.coeff(l, 1)\n",
    "c2 = detChPolyOpen.coeff(l, 2)\n",
    "ChPolyOpen = sympy.Matrix([\n",
    "    c0,\n",
    "    c1,\n",
    "    c2\n",
    "    ])\n",
    "toCopyString(ChPolyOpen)"
   ]
  },
  {
   "cell_type": "markdown",
   "metadata": {},
   "source": [
    "3: Коэффициенты характеристического полинома замкнутой системы (в порядке возрастания степеней от свободного члена)"
   ]
  },
  {
   "cell_type": "code",
   "execution_count": 24,
   "metadata": {},
   "outputs": [
    {
     "data": {
      "text/plain": [
       "'matrix([2],[5],[4])'"
      ]
     },
     "execution_count": 24,
     "metadata": {},
     "output_type": "execute_result"
    }
   ],
   "source": [
    "ChPolyClosed = sympy.Matrix([\n",
    "    [-(L[0]*L[1]*L[2])],\n",
    "    [L[0]*L[1] + L[0]*L[2] + L[1]*L[2]],\n",
    "    [-(L[0] + L[1] + L[2])]\n",
    "    ])\n",
    "toCopyString(ChPolyClosed)"
   ]
  },
  {
   "cell_type": "markdown",
   "metadata": {},
   "source": [
    "4: Матрица D^-1"
   ]
  },
  {
   "cell_type": "code",
   "execution_count": 26,
   "metadata": {},
   "outputs": [
    {
     "data": {
      "text/plain": [
       "'matrix([0.125000000000000,-0.187500000000000,0],[0.125000000000000,0.0625000000000000,0],[0.125000000000000,0.312500000000000,0.500000000000000])'"
      ]
     },
     "execution_count": 26,
     "metadata": {},
     "output_type": "execute_result"
    }
   ],
   "source": [
    "b = B*r\n",
    "d1 = A**2*b+c2*A*b+c1*b\n",
    "d2 = A*b+c2*b\n",
    "d3 = b\n",
    "D = sympy.eye(3)\n",
    "D[:, 0] = d1\n",
    "D[:, 1] = d2\n",
    "D[:, 2] = d3\n",
    "Dinv = D.inv().evalf()\n",
    "# evaluate Dinv\n",
    "toCopyString(Dinv)"
   ]
  },
  {
   "cell_type": "markdown",
   "metadata": {},
   "source": [
    "5: Скалярное управление v"
   ]
  },
  {
   "cell_type": "code",
   "execution_count": 27,
   "metadata": {},
   "outputs": [
    {
     "data": {
      "text/plain": [
       "'matrix([-1.50000000000000,-1.75000000000000,-5.00000000000000])'"
      ]
     },
     "execution_count": 27,
     "metadata": {},
     "output_type": "execute_result"
    }
   ],
   "source": [
    "GpT = (ChPolyOpen - ChPolyClosed).T\n",
    "v = GpT*Dinv\n",
    "toCopyString(v)"
   ]
  },
  {
   "cell_type": "markdown",
   "metadata": {},
   "source": [
    "6: Векторное управление u"
   ]
  },
  {
   "cell_type": "code",
   "execution_count": 29,
   "metadata": {},
   "outputs": [
    {
     "data": {
      "text/plain": [
       "'matrix([-1.50000000000000,-1.75000000000000,-5.00000000000000],[-3.00000000000000,-3.50000000000000,-10.0000000000000])'"
      ]
     },
     "execution_count": 29,
     "metadata": {},
     "output_type": "execute_result"
    }
   ],
   "source": [
    "u = r*v\n",
    "toCopyString(u)"
   ]
  }
 ],
 "metadata": {
  "kernelspec": {
   "display_name": "Python 3.10.4 64-bit",
   "language": "python",
   "name": "python3"
  },
  "language_info": {
   "codemirror_mode": {
    "name": "ipython",
    "version": 3
   },
   "file_extension": ".py",
   "mimetype": "text/x-python",
   "name": "python",
   "nbconvert_exporter": "python",
   "pygments_lexer": "ipython3",
   "version": "3.10.4"
  },
  "orig_nbformat": 4,
  "vscode": {
   "interpreter": {
    "hash": "916dbcbb3f70747c44a77c7bcd40155683ae19c65e1c03b4aa3499c5328201f1"
   }
  }
 },
 "nbformat": 4,
 "nbformat_minor": 2
}
